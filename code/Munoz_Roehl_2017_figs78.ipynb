{
 "cells": [
  {
   "cell_type": "markdown",
   "metadata": {},
   "source": [
    "# Displacements due to pressure variations in reservoir"
   ]
  },
  {
   "cell_type": "markdown",
   "metadata": {},
   "source": [
    "This code aims at reproducing the results presented by Muñoz and Roehl (2017, figs 7 and 8)"
   ]
  },
  {
   "cell_type": "code",
   "execution_count": 1,
   "metadata": {},
   "outputs": [],
   "source": [
    "import numpy as np\n",
    "import matplotlib.pyplot as plt\n",
    "import matplotlib.ticker"
   ]
  },
  {
   "cell_type": "code",
   "execution_count": 2,
   "metadata": {},
   "outputs": [],
   "source": [
    "import compaction as cp"
   ]
  },
  {
   "cell_type": "code",
   "execution_count": 3,
   "metadata": {},
   "outputs": [],
   "source": [
    "# Define the model\n",
    "shape = (50, 50)\n",
    "model = cp.prism_layer_circular((0,0), 500, shape, 850, 750)"
   ]
  },
  {
   "cell_type": "code",
   "execution_count": 4,
   "metadata": {},
   "outputs": [
    {
     "data": {
      "text/plain": [
       "array([-500., -480., -100.,  -80.,  850.,  750.])"
      ]
     },
     "execution_count": 4,
     "metadata": {},
     "output_type": "execute_result"
    }
   ],
   "source": [
    "model[0]"
   ]
  },
  {
   "cell_type": "code",
   "execution_count": 7,
   "metadata": {},
   "outputs": [
    {
     "data": {
      "image/png": "[encoded data removed]",
      "text/plain": [
       "<Figure size 432x288 with 1 Axes>"
      ]
     },
     "metadata": {
      "needs_background": "light"
     },
     "output_type": "display_data"
    }
   ],
   "source": [
    "plt.figure()\n",
    "for m in model:\n",
    "    yc = 0.5*(m[0]+m[1])\n",
    "    xc = 0.5*(m[2]+m[3])\n",
    "    plt.plot(yc, xc, 'kx')\n",
    "plt.show()"
   ]
  },
  {
   "cell_type": "code",
   "execution_count": 8,
   "metadata": {},
   "outputs": [],
   "source": [
    "# Pressure variation (in MPa)\n",
    "DP = np.zeros(len(model)) - 10"
   ]
  },
  {
   "cell_type": "code",
   "execution_count": null,
   "metadata": {},
   "outputs": [],
   "source": [
    "# Young’s modulus (in MPa)\n",
    "young = 33000\n",
    "\n",
    "# Poisson coefficient\n",
    "poisson = 0.25"
   ]
  },
  {
   "cell_type": "code",
   "execution_count": null,
   "metadata": {},
   "outputs": [],
   "source": [
    "# Define computation points on vertical plane at y = 0m\n",
    "shape = (300, 120)\n",
    "x = np.linspace(-1500, 1500, shape[0])\n",
    "z = np.linspace(0, 1200, shape[1])\n",
    "x, z = np.meshgrid(x, z)\n",
    "x = x.ravel()\n",
    "z = z.ravel()\n",
    "y = np.zeros_like(x)\n",
    "coordinates = np.vstack([y, x, z])"
   ]
  },
  {
   "cell_type": "code",
   "execution_count": null,
   "metadata": {},
   "outputs": [],
   "source": [
    "coordinates.shape"
   ]
  },
  {
   "cell_type": "markdown",
   "metadata": {},
   "source": [
    "### Compute the displacement components by using Muñoz and Roehl (2017)"
   ]
  },
  {
   "cell_type": "code",
   "execution_count": null,
   "metadata": {},
   "outputs": [],
   "source": [
    "# Compute the x-component\n",
    "u_x1 = cp.displacement(coordinates, model, DP, poisson, young, field='u_x1_MR')\n",
    "\n",
    "u_x2 = cp.displacement(coordinates, model, DP, poisson, young, field='u_x2_MR')\n",
    "\n",
    "u_xz2 = cp.displacement(coordinates, model, DP, poisson, young, field='u_xz2_MR')\n",
    "\n",
    "u_x = u_x1 + (3 - 4*poisson)*u_x2 + u_xz2"
   ]
  },
  {
   "cell_type": "code",
   "execution_count": null,
   "metadata": {},
   "outputs": [],
   "source": [
    "# Compute the y-component\n",
    "u_y1 = cp.displacement(coordinates, model, DP, poisson, young, field='u_y1_MR')\n",
    "\n",
    "u_y2 = cp.displacement(coordinates, model, DP, poisson, young, field='u_y2_MR')\n",
    "\n",
    "u_yz2 = cp.displacement(coordinates, model, DP, poisson, young, field='u_yz2_MR')\n",
    "\n",
    "u_y = u_y1 + (3 - 4*poisson)*u_y2 + u_yz2"
   ]
  },
  {
   "cell_type": "code",
   "execution_count": null,
   "metadata": {},
   "outputs": [],
   "source": [
    "# Compute the z-component\n",
    "u_z1 = cp.displacement(coordinates, model, DP, poisson, young, field='u_z1_MR')\n",
    "\n",
    "u_z2 = cp.displacement(coordinates, model, DP, poisson, young, field='u_z2_MR')\n",
    "\n",
    "u_zz2 = cp.displacement(coordinates, model, DP, poisson, young, field='u_zz2_MR')\n",
    "\n",
    "u_z = u_z1 + (3 - 4*poisson)*u_z2 + u_zz2"
   ]
  },
  {
   "cell_type": "markdown",
   "metadata": {},
   "source": [
    "### Compute the displacement components by using Nagy et al. (2000)"
   ]
  },
  {
   "cell_type": "code",
   "execution_count": null,
   "metadata": {},
   "outputs": [],
   "source": [
    "# Compute the x-component\n",
    "u_x1_NA = cp.displacement(coordinates, model, DP, poisson, young, field='u_x1_NA')\n",
    "\n",
    "u_x2_NA = cp.displacement(coordinates, model, DP, poisson, young, field='u_x2_NA')\n",
    "\n",
    "u_xz2_NA = cp.displacement(coordinates, model, DP, poisson, young, field='u_xz2_NA')\n",
    "\n",
    "u_x_NA = u_x1_NA + (3 - 4*poisson)*u_x2_NA + u_xz2_NA"
   ]
  },
  {
   "cell_type": "markdown",
   "metadata": {},
   "source": [
    "### Results obtained for x-component obtained with Muñoz and Roehl (2017)"
   ]
  },
  {
   "cell_type": "code",
   "execution_count": null,
   "metadata": {
    "scrolled": false
   },
   "outputs": [],
   "source": [
    "# Plot the results on a map\n",
    "fig, ax = plt.subplots(nrows=2, ncols=2, sharex=False, sharey=False, figsize=(12,10))\n",
    "\n",
    "ax[0,0].set_aspect(\"equal\")\n",
    "# Get the maximum absolute value so we can center the colorbar on zero\n",
    "maxabs = np.max(np.abs(u_x1))\n",
    "img = ax[0,0].contourf(coordinates[0].reshape(shape), \n",
    "                  coordinates[1].reshape(shape), \n",
    "                  u_x1.reshape(shape), \n",
    "                  60, vmin=-maxabs, vmax=maxabs, cmap=\"seismic\")\n",
    "plt.colorbar(img, ax=ax[0,0], pad=0.04, shrink=0.73, label=\"m\")\n",
    "ax[0,0].set_title(\"x-component first system\")\n",
    "\n",
    "ax[0,0].set_xticklabels(ax[0,0].get_xticks())\n",
    "ax[0,0].set_yticklabels(ax[0,0].get_yticks())\n",
    "ax[0,0].set_xlabel(\"y (m)\")\n",
    "ax[0,0].set_ylabel(\"x (m)\")\n",
    "\n",
    "ax[0,1].set_aspect(\"equal\")\n",
    "# Get the maximum absolute value so we can center the colorbar on zero\n",
    "maxabs = np.max(np.abs(u_x2))\n",
    "img = ax[0,1].contourf(coordinates[0].reshape(shape), \n",
    "                  coordinates[1].reshape(shape), \n",
    "                  u_x2.reshape(shape), \n",
    "                  60, vmin=-maxabs, vmax=maxabs, cmap=\"seismic\")\n",
    "plt.colorbar(img, ax=ax[0,1], pad=0.04, shrink=0.73, label=\"m\")\n",
    "ax[0,1].set_title(\"x-component second system\")\n",
    "\n",
    "ax[0,1].set_xticklabels(ax[0,1].get_xticks())\n",
    "ax[0,1].set_yticklabels(ax[0,1].get_yticks())\n",
    "ax[0,1].set_xlabel(\"y (m)\")\n",
    "ax[0,1].set_ylabel(\"x (m)\")\n",
    "\n",
    "ax[1,0].set_aspect(\"equal\")\n",
    "# Get the maximum absolute value so we can center the colorbar on zero\n",
    "maxabs = np.max(np.abs(u_xz2))\n",
    "img = ax[1,0].contourf(coordinates[0].reshape(shape), \n",
    "                  coordinates[1].reshape(shape), \n",
    "                  u_xz2.reshape(shape), \n",
    "                  60, vmin=-maxabs, vmax=maxabs, cmap=\"seismic\")\n",
    "plt.colorbar(img, ax=ax[1,0], pad=0.04, shrink=0.73, label=\"m\")\n",
    "ax[1,0].set_title(\"xz-component second system\")\n",
    "\n",
    "ax[1,0].set_xticklabels(ax[1,0].get_xticks())\n",
    "ax[1,0].set_yticklabels(ax[1,0].get_yticks())\n",
    "ax[1,0].set_xlabel(\"y (m)\")\n",
    "ax[1,0].set_ylabel(\"x (m)\")\n",
    "\n",
    "ax[1,1].set_aspect(\"equal\")\n",
    "# Get the maximum absolute value so we can center the colorbar on zero\n",
    "maxabs = np.max(np.abs(u_x))\n",
    "img = ax[1,1].contourf(coordinates[0].reshape(shape), \n",
    "                  coordinates[1].reshape(shape), \n",
    "                  u_x.reshape(shape), \n",
    "                  60, vmin=-maxabs, vmax=maxabs, cmap=\"seismic\")\n",
    "plt.colorbar(img, ax=ax[1,1], pad=0.04, shrink=0.73, label=\"m\")\n",
    "ax[1,1].set_title(\"x-component of displacement\")\n",
    "\n",
    "ax[1,1].set_xticklabels(ax[1,1].get_xticks())\n",
    "ax[1,1].set_yticklabels(ax[1,1].get_yticks())\n",
    "ax[1,1].set_xlabel(\"y (m)\")\n",
    "ax[1,1].set_ylabel(\"x (m)\")\n",
    "\n",
    "\n",
    "plt.tight_layout()\n",
    "plt.show()"
   ]
  },
  {
   "cell_type": "markdown",
   "metadata": {},
   "source": [
    "### Results obtained for x-component obtained with Nagy et al. (2000)"
   ]
  },
  {
   "cell_type": "code",
   "execution_count": null,
   "metadata": {},
   "outputs": [],
   "source": [
    "# Plot the results on a map\n",
    "fig, ax = plt.subplots(nrows=2, ncols=2, sharex=False, sharey=False, figsize=(12,10))\n",
    "\n",
    "ax[0,0].set_aspect(\"equal\")\n",
    "# Get the maximum absolute value so we can center the colorbar on zero\n",
    "maxabs = np.max(np.abs(u_x1_NA))\n",
    "img = ax[0,0].contourf(coordinates[0].reshape(shape), \n",
    "                  coordinates[1].reshape(shape), \n",
    "                  u_x1_NA.reshape(shape), \n",
    "                  60, vmin=-maxabs, vmax=maxabs, cmap=\"seismic\")\n",
    "plt.colorbar(img, ax=ax[0,0], pad=0.04, shrink=0.73, label=\"m\")\n",
    "ax[0,0].set_title(\"x-component first system\")\n",
    "\n",
    "ax[0,0].set_xticklabels(ax[0,0].get_xticks())\n",
    "ax[0,0].set_yticklabels(ax[0,0].get_yticks())\n",
    "ax[0,0].set_xlabel(\"y (m)\")\n",
    "ax[0,0].set_ylabel(\"x (m)\")\n",
    "\n",
    "ax[0,1].set_aspect(\"equal\")\n",
    "# Get the maximum absolute value so we can center the colorbar on zero\n",
    "maxabs = np.max(np.abs(u_x2_NA))\n",
    "img = ax[0,1].contourf(coordinates[0].reshape(shape), \n",
    "                  coordinates[1].reshape(shape), \n",
    "                  u_x2_NA.reshape(shape), \n",
    "                  60, vmin=-maxabs, vmax=maxabs, cmap=\"seismic\")\n",
    "plt.colorbar(img, ax=ax[0,1], pad=0.04, shrink=0.73, label=\"m\")\n",
    "ax[0,1].set_title(\"x-component second system\")\n",
    "\n",
    "ax[0,1].set_xticklabels(ax[0,1].get_xticks())\n",
    "ax[0,1].set_yticklabels(ax[0,1].get_yticks())\n",
    "ax[0,1].set_xlabel(\"y (m)\")\n",
    "ax[0,1].set_ylabel(\"x (m)\")\n",
    "\n",
    "ax[1,0].set_aspect(\"equal\")\n",
    "# Get the maximum absolute value so we can center the colorbar on zero\n",
    "maxabs = np.max(np.abs(u_xz2_NA))\n",
    "img = ax[1,0].contourf(coordinates[0].reshape(shape), \n",
    "                  coordinates[1].reshape(shape), \n",
    "                  u_xz2_NA.reshape(shape), \n",
    "                  60, vmin=-maxabs, vmax=maxabs, cmap=\"seismic\")\n",
    "plt.colorbar(img, ax=ax[1,0], pad=0.04, shrink=0.73, label=\"m\")\n",
    "ax[1,0].set_title(\"xz-component second system\")\n",
    "\n",
    "ax[1,0].set_xticklabels(ax[1,0].get_xticks())\n",
    "ax[1,0].set_yticklabels(ax[1,0].get_yticks())\n",
    "ax[1,0].set_xlabel(\"y (m)\")\n",
    "ax[1,0].set_ylabel(\"x (m)\")\n",
    "\n",
    "ax[1,1].set_aspect(\"equal\")\n",
    "# Get the maximum absolute value so we can center the colorbar on zero\n",
    "maxabs = np.max(np.abs(u_x_NA))\n",
    "img = ax[1,1].contourf(coordinates[0].reshape(shape), \n",
    "                  coordinates[1].reshape(shape), \n",
    "                  u_x_NA.reshape(shape), \n",
    "                  60, vmin=-maxabs, vmax=maxabs, cmap=\"seismic\")\n",
    "plt.colorbar(img, ax=ax[1,1], pad=0.04, shrink=0.73, label=\"m\")\n",
    "ax[1,1].set_title(\"x-component of displacement\")\n",
    "\n",
    "ax[1,1].set_xticklabels(ax[1,1].get_xticks())\n",
    "ax[1,1].set_yticklabels(ax[1,1].get_yticks())\n",
    "ax[1,1].set_xlabel(\"y (m)\")\n",
    "ax[1,1].set_ylabel(\"x (m)\")\n",
    "\n",
    "\n",
    "plt.tight_layout()\n",
    "plt.show()"
   ]
  },
  {
   "cell_type": "markdown",
   "metadata": {},
   "source": [
    "### Comparison of computed x-component on the profile y = 0 m"
   ]
  },
  {
   "cell_type": "code",
   "execution_count": null,
   "metadata": {},
   "outputs": [],
   "source": [
    "# Plot the results on a profile at y = 0m\n",
    "profile = (y == 0)\n",
    "fig, ax = plt.subplots(figsize=(8, 6))\n",
    "plt.plot(x[profile], u_x_NA[profile], 'k-', label='Nagy et al')\n",
    "plt.plot(x[profile], u_x[profile], 'r--', label='Muñoz and Roehl')\n",
    "ax.set_xlabel(\"x (m)\")\n",
    "ax.set_ylabel(\"x-component displacement (m)\")\n",
    "plt.legend(loc='best')\n",
    "plt.grid()\n",
    "plt.tight_layout()\n",
    "plt.show()"
   ]
  },
  {
   "cell_type": "markdown",
   "metadata": {},
   "source": [
    "### Results obtained for y-component obtained with Muñoz and Roehl (2017)"
   ]
  },
  {
   "cell_type": "code",
   "execution_count": null,
   "metadata": {
    "scrolled": false
   },
   "outputs": [],
   "source": [
    "# Plot the results on a map\n",
    "fig, ax = plt.subplots(nrows=2, ncols=2, sharex=False, sharey=False, figsize=(12,10))\n",
    "\n",
    "ax[0,0].set_aspect(\"equal\")\n",
    "# Get the maximum absolute value so we can center the colorbar on zero\n",
    "maxabs = np.max(np.abs(u_y1))\n",
    "img = ax[0,0].contourf(coordinates[0].reshape(shape), \n",
    "                  coordinates[1].reshape(shape), \n",
    "                  u_y1.reshape(shape), \n",
    "                  60, vmin=-maxabs, vmax=maxabs, cmap=\"seismic\")\n",
    "plt.colorbar(img, ax=ax[0,0], pad=0.04, shrink=0.73, label=\"m\")\n",
    "ax[0,0].set_title(\"y-component first system\")\n",
    "\n",
    "ax[0,0].set_xticklabels(ax[0,0].get_xticks())\n",
    "ax[0,0].set_yticklabels(ax[0,0].get_yticks())\n",
    "ax[0,0].set_xlabel(\"y (m)\")\n",
    "ax[0,0].set_ylabel(\"x (m)\")\n",
    "\n",
    "ax[0,1].set_aspect(\"equal\")\n",
    "# Get the maximum absolute value so we can center the colorbar on zero\n",
    "maxabs = np.max(np.abs(u_y2))\n",
    "img = ax[0,1].contourf(coordinates[0].reshape(shape), \n",
    "                  coordinates[1].reshape(shape), \n",
    "                  u_y2.reshape(shape), \n",
    "                  60, vmin=-maxabs, vmax=maxabs, cmap=\"seismic\")\n",
    "plt.colorbar(img, ax=ax[0,1], pad=0.04, shrink=0.73, label=\"m\")\n",
    "ax[0,1].set_title(\"y-component second system\")\n",
    "\n",
    "ax[0,1].set_xticklabels(ax[0,1].get_xticks())\n",
    "ax[0,1].set_yticklabels(ax[0,1].get_yticks())\n",
    "ax[0,1].set_xlabel(\"y (m)\")\n",
    "ax[0,1].set_ylabel(\"x (m)\")\n",
    "\n",
    "ax[1,0].set_aspect(\"equal\")\n",
    "# Get the maximum absolute value so we can center the colorbar on zero\n",
    "maxabs = np.max(np.abs(u_yz2))\n",
    "img = ax[1,0].contourf(coordinates[0].reshape(shape), \n",
    "                  coordinates[1].reshape(shape), \n",
    "                  u_yz2.reshape(shape), \n",
    "                  60, vmin=-maxabs, vmax=maxabs, cmap=\"seismic\")\n",
    "plt.colorbar(img, ax=ax[1,0], pad=0.04, shrink=0.73, label=\"m\")\n",
    "ax[1,0].set_title(\"yz-component second system\")\n",
    "\n",
    "ax[1,0].set_xticklabels(ax[1,0].get_xticks())\n",
    "ax[1,0].set_yticklabels(ax[1,0].get_yticks())\n",
    "ax[1,0].set_xlabel(\"y (m)\")\n",
    "ax[1,0].set_ylabel(\"x (m)\")\n",
    "\n",
    "ax[1,1].set_aspect(\"equal\")\n",
    "# Get the maximum absolute value so we can center the colorbar on zero\n",
    "maxabs = np.max(np.abs(u_y))\n",
    "img = ax[1,1].contourf(coordinates[0].reshape(shape), \n",
    "                  coordinates[1].reshape(shape), \n",
    "                  u_y.reshape(shape), \n",
    "                  60, vmin=-maxabs, vmax=maxabs, cmap=\"seismic\")\n",
    "plt.colorbar(img, ax=ax[1,1], pad=0.04, shrink=0.73, label=\"m\")\n",
    "ax[1,1].set_title(\"y-component of displacement\")\n",
    "\n",
    "ax[1,1].set_xticklabels(ax[1,1].get_xticks())\n",
    "ax[1,1].set_yticklabels(ax[1,1].get_yticks())\n",
    "ax[1,1].set_xlabel(\"y (m)\")\n",
    "ax[1,1].set_ylabel(\"x (m)\")\n",
    "\n",
    "\n",
    "plt.tight_layout()\n",
    "plt.show()"
   ]
  },
  {
   "cell_type": "markdown",
   "metadata": {},
   "source": [
    "### Results obtained for z-component obtained with Muñoz and Roehl (2017)"
   ]
  },
  {
   "cell_type": "code",
   "execution_count": null,
   "metadata": {
    "scrolled": false
   },
   "outputs": [],
   "source": [
    "# Plot the results on a map\n",
    "fig, ax = plt.subplots(nrows=2, ncols=2, sharex=False, sharey=False, figsize=(12,10))\n",
    "\n",
    "ax[0,0].set_aspect(\"equal\")\n",
    "# Get the maximum absolute value so we can center the colorbar on zero\n",
    "maxabs = np.max(np.abs(u_z1))\n",
    "img = ax[0,0].contourf(coordinates[0].reshape(shape), \n",
    "                  coordinates[1].reshape(shape), \n",
    "                  u_z1.reshape(shape), \n",
    "                  60, vmin=-maxabs, vmax=maxabs, cmap=\"seismic\")\n",
    "plt.colorbar(img, ax=ax[0,0], pad=0.04, shrink=0.73, label=\"m\")\n",
    "ax[0,0].set_title(\"z-component first system\")\n",
    "\n",
    "ax[0,0].set_xticklabels(ax[0,0].get_xticks())\n",
    "ax[0,0].set_yticklabels(ax[0,0].get_yticks())\n",
    "ax[0,0].set_xlabel(\"y (m)\")\n",
    "ax[0,0].set_ylabel(\"x (m)\")\n",
    "\n",
    "ax[0,1].set_aspect(\"equal\")\n",
    "# Get the maximum absolute value so we can center the colorbar on zero\n",
    "maxabs = np.max(np.abs(u_z2))\n",
    "img = ax[0,1].contourf(coordinates[0].reshape(shape), \n",
    "                  coordinates[1].reshape(shape), \n",
    "                  u_z2.reshape(shape), \n",
    "                  60, vmin=-maxabs, vmax=maxabs, cmap=\"seismic\")\n",
    "plt.colorbar(img, ax=ax[0,1], pad=0.04, shrink=0.73, label=\"m\")\n",
    "ax[0,1].set_title(\"z-component second system\")\n",
    "\n",
    "ax[0,1].set_xticklabels(ax[0,1].get_xticks())\n",
    "ax[0,1].set_yticklabels(ax[0,1].get_yticks())\n",
    "ax[0,1].set_xlabel(\"y (m)\")\n",
    "ax[0,1].set_ylabel(\"x (m)\")\n",
    "\n",
    "ax[1,0].set_aspect(\"equal\")\n",
    "# Get the maximum absolute value so we can center the colorbar on zero\n",
    "maxabs = np.max(np.abs(u_zz2))\n",
    "img = ax[1,0].contourf(coordinates[0].reshape(shape), \n",
    "                  coordinates[1].reshape(shape), \n",
    "                  u_zz2.reshape(shape), \n",
    "                  60, vmin=-maxabs, vmax=maxabs, cmap=\"seismic\")\n",
    "plt.colorbar(img, ax=ax[1,0], pad=0.04, shrink=0.73, label=\"m\")\n",
    "ax[1,0].set_title(\"zz-component second system\")\n",
    "\n",
    "ax[1,0].set_xticklabels(ax[1,0].get_xticks())\n",
    "ax[1,0].set_yticklabels(ax[1,0].get_yticks())\n",
    "ax[1,0].set_xlabel(\"y (m)\")\n",
    "ax[1,0].set_ylabel(\"x (m)\")\n",
    "\n",
    "ax[1,1].set_aspect(\"equal\")\n",
    "# Get the maximum absolute value so we can center the colorbar on zero\n",
    "maxabs = np.max(np.abs(u_z))\n",
    "img = ax[1,1].contourf(coordinates[0].reshape(shape), \n",
    "                  coordinates[1].reshape(shape), \n",
    "                  u_z.reshape(shape), \n",
    "                  60, vmin=-maxabs, vmax=maxabs, cmap=\"seismic\")\n",
    "plt.colorbar(img, ax=ax[1,1], pad=0.04, shrink=0.73, label=\"m\")\n",
    "ax[1,1].set_title(\"z-component of displacement\")\n",
    "\n",
    "ax[1,1].set_xticklabels(ax[1,1].get_xticks())\n",
    "ax[1,1].set_yticklabels(ax[1,1].get_yticks())\n",
    "ax[1,1].set_xlabel(\"y (m)\")\n",
    "ax[1,1].set_ylabel(\"x (m)\")\n",
    "\n",
    "\n",
    "plt.tight_layout()\n",
    "plt.show()"
   ]
  },
  {
   "cell_type": "code",
   "execution_count": null,
   "metadata": {},
   "outputs": [],
   "source": []
  }
 ],
 "metadata": {
  "kernelspec": {
   "display_name": "Python 3",
   "language": "python",
   "name": "python3"
  },
  "language_info": {
   "codemirror_mode": {
    "name": "ipython",
    "version": 3
   },
   "file_extension": ".py",
   "mimetype": "text/x-python",
   "name": "python",
   "nbconvert_exporter": "python",
   "pygments_lexer": "ipython3",
   "version": "3.7.4"
  }
 },
 "nbformat": 4,
 "nbformat_minor": 4
}
