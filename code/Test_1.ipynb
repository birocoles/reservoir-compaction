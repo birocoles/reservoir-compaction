{
 "cells": [
  {
   "cell_type": "markdown",
   "metadata": {},
   "source": [
    "# Displacements due to pressure variations in reservoir simulating a Disk-shaped reservoir under uniform depletion"
   ]
  },
  {
   "cell_type": "markdown",
   "metadata": {},
   "source": [
    "This code aims at creating the synthetic test 1 simulating a Disk-shaped reservoir under uniform depletion\n"
   ]
  },
  {
   "cell_type": "code",
   "execution_count": 1,
   "metadata": {},
   "outputs": [],
   "source": [
    "import numpy as np\n",
    "import matplotlib.pyplot as plt\n",
    "import matplotlib.ticker\n",
    "import pickle"
   ]
  },
  {
   "cell_type": "code",
   "execution_count": 2,
   "metadata": {},
   "outputs": [],
   "source": [
    "import compaction as cp\n",
    "import geertsma_disk as disk"
   ]
  },
  {
   "cell_type": "code",
   "execution_count": 3,
   "metadata": {},
   "outputs": [],
   "source": [
    "# Parameters describing the reservoir\n",
    "R = 500. #radius of the cylinder \n",
    "top = 750. #reservoir top\n",
    "bottom = 850. #reservoir bottom\n",
    "h = bottom - top #reservoir thickness\n",
    "y0 = 0 # y coordinate of the center\n",
    "x0 = 0 # x coordinate of the center\n",
    "D = 0.5*(bottom+top) # z coordinate of the center"
   ]
  },
  {
   "cell_type": "code",
   "execution_count": 4,
   "metadata": {},
   "outputs": [],
   "source": [
    "# Define the model which consists of a disk-shaped reservoir \n",
    "# This model will be used by our methodology\n",
    "\n",
    "model = cp.prism_layer_circular((y0,x0), R, (20,20), bottom, top)"
   ]
  },
  {
   "cell_type": "code",
   "execution_count": 5,
   "metadata": {},
   "outputs": [],
   "source": [
    "# Define the model which consists of a disk-shaped reservoir (one cylinder)\n",
    "# This model will be used Geertsma's (1973) method \n",
    "# Reference: Geertsma, J.: Land Subsidence above compacting oil and gas reservoirs, J. Pet. Tech. 25, 734-744, 1973.\n",
    "\n",
    "#model_ge  = cp.prism_layer_circular((0,0), R, (20,20), bottom, top) \n",
    "model_ge = [y0, x0, D, R, h]"
   ]
  },
  {
   "cell_type": "code",
   "execution_count": 6,
   "metadata": {},
   "outputs": [],
   "source": [
    "# Pressure variation (in MPa)\n",
    "DP = np.zeros(len(model)) - 10."
   ]
  },
  {
   "cell_type": "markdown",
   "metadata": {},
   "source": [
    "#### Young’s modulus $E$ and  Poisson's ratio $\\nu$ "
   ]
  },
  {
   "cell_type": "code",
   "execution_count": 7,
   "metadata": {},
   "outputs": [],
   "source": [
    "# Young’s modulus (in MPa)\n",
    "young = 3300\n",
    "\n",
    "# Poisson coefficient\n",
    "poisson = 0.25"
   ]
  },
  {
   "cell_type": "markdown",
   "metadata": {},
   "source": [
    "### The uniaxial compaction coefficient $C_m$ \n",
    "$C_m = \\frac{1}{E} \\: \\frac{(1 + \\nu) (1  - 2\\nu)}{(1-\\nu)}$"
   ]
  },
  {
   "cell_type": "code",
   "execution_count": 8,
   "metadata": {},
   "outputs": [
    {
     "name": "stdout",
     "output_type": "stream",
     "text": [
      "CM 0.0002525252525252525 G 1320.0\n"
     ]
    }
   ],
   "source": [
    "cm = cp.Cm(poisson, young) # uniaxial compaction coefficient in 1/MPa\n",
    "G = disk.G(poisson, young) # Shear Modulus in MPa\n",
    "print ('CM', cm, 'G', G)"
   ]
  },
  {
   "cell_type": "markdown",
   "metadata": {},
   "source": [
    "### Coordinates on the plane x = 0 m"
   ]
  },
  {
   "cell_type": "code",
   "execution_count": 9,
   "metadata": {},
   "outputs": [],
   "source": [
    "# Define computation points on cross-sections at x  = 0\n",
    "shape = (120, 24)\n",
    "y = np.linspace(-1500, 1500, shape[0])\n",
    "z = np.linspace(0, 1200, shape[1])\n",
    "y, z = np.meshgrid(y, z)\n",
    "y = y.ravel()\n",
    "z = z.ravel()\n",
    "x = np.zeros_like(y)\n",
    "coordinates = np.vstack([y, x, z])"
   ]
  },
  {
   "cell_type": "markdown",
   "metadata": {},
   "source": [
    "### Compute the displacement components on plane x = 0 m¶"
   ]
  },
  {
   "cell_type": "code",
   "execution_count": 10,
   "metadata": {},
   "outputs": [],
   "source": [
    "# Compute the x-component of displacement\n",
    "displacement_x = cp.displacement_x_component(coordinates, model, DP, poisson, young)\n",
    "\n",
    "# Compute the y-component of displacement\n",
    "displacement_y = cp.displacement_y_component(coordinates, model, DP, poisson, young)\n",
    "\n",
    "# Compute the z-component of displacement\n",
    "displacement_z = cp.displacement_z_component(coordinates, model, DP, poisson, young)"
   ]
  },
  {
   "cell_type": "code",
   "execution_count": 11,
   "metadata": {},
   "outputs": [],
   "source": [
    "# horizontal component of displacement equation (39)\n",
    "displacement_horizontal = np.sqrt(displacement_x**2 + displacement_y**2)"
   ]
  },
  {
   "cell_type": "markdown",
   "metadata": {},
   "source": [
    "### Geertsma:  Compute the displacement  components on plane x = 0 m"
   ]
  },
  {
   "cell_type": "code",
   "execution_count": 12,
   "metadata": {},
   "outputs": [],
   "source": [
    "# ur is the radial displacement and uz is the vertical displacement calculated by Geertsma's model\n",
    "ur, uz = disk.Geertsma_disk_displacement(coordinates, model_ge, DP[0], poisson, young)"
   ]
  },
  {
   "cell_type": "markdown",
   "metadata": {},
   "source": [
    "## Save the data"
   ]
  },
  {
   "cell_type": "raw",
   "metadata": {},
   "source": [
    "fields_d = dict()\n",
    "fields_d['x'] = x\n",
    "fields_d['y'] = y\n",
    "fields_d['z'] = z\n",
    "# Displacement field\n",
    "fields_d['displacement_x'] = displacement_x \n",
    "fields_d['displacement_y'] = displacement_y \n",
    "fields_d['displacement_z'] = displacement_z\n",
    "fields_d['displacement_horizontal'] = displacement_horizontal\n",
    "# Displacement field Geertsma\n",
    "fields_d['displacement_radial_ge'] = ur\n",
    "fields_d['displacement_z_ge'] = uz"
   ]
  },
  {
   "cell_type": "raw",
   "metadata": {},
   "source": [
    "#save the data\n",
    "file_name = 'synthetic_cylindrical_displacement_fields_x_zero.pickle'\n",
    "with open(file_name, 'wb') as f:\n",
    "    pickle.dump(fields_d, f)"
   ]
  },
  {
   "cell_type": "markdown",
   "metadata": {},
   "source": [
    "## PLOT DISPLACEMENT FIELD BY OUR METHODOLOGY: "
   ]
  },
  {
   "cell_type": "markdown",
   "metadata": {},
   "source": [
    "### Plot the results of the displacement fields on plane x = 0 m"
   ]
  },
  {
   "cell_type": "code",
   "execution_count": 13,
   "metadata": {},
   "outputs": [],
   "source": [
    "y = np.linspace(-1500, 1500, shape[0])\n",
    "z = np.linspace(0, 1200, shape[1])"
   ]
  },
  {
   "cell_type": "code",
   "execution_count": 16,
   "metadata": {
    "scrolled": false
   },
   "outputs": [
    {
     "data": {
      "image/png": "[encoded data removed]",
      "text/plain": [
       "<Figure size 226.8x165.6 with 4 Axes>"
      ]
     },
     "metadata": {
      "needs_background": "light"
     },
     "output_type": "display_data"
    }
   ],
   "source": [
    "font_title = 8\n",
    "font_ticks = 5\n",
    "font_label = 6\n",
    "\n",
    "# Plot the displacement fields \n",
    "fig, ax = plt.subplots(\n",
    "    nrows=2, ncols=1, sharex=True, sharey=False, \n",
    "    figsize=(3.15,2.3)\n",
    ")\n",
    "\n",
    "ax[0].set_aspect(\"equal\")\n",
    "img = ax[0].contourf(0.001*y, 0.001*z, 10*displacement_horizontal.reshape(shape[::-1]), \n",
    "                  60, cmap=\"jet\")\n",
    "cb = plt.colorbar(img, ax=ax[0], aspect=15, pad=0.05, shrink=0.7)\n",
    "cb.set_label('m', rotation=90, fontsize=font_label)\n",
    "cb.ax.tick_params(labelsize=font_ticks)\n",
    "#ax[0].set_title(\"(a)   Horizontal displacement \")\n",
    "plt.text(-2.1, -1.6, '(a)', fontsize=font_title)\n",
    "\n",
    "ax[0].set_xticklabels(ax[0].get_xticks(), fontsize=font_ticks)\n",
    "ax[0].set_yticklabels(ax[0].get_yticks(), fontsize=font_ticks)\n",
    "ax[0].invert_yaxis()\n",
    "#ax[0].set_xlabel(\"Horizontal coordinate y (m)\", fontsize=font_label)\n",
    "ax[0].set_ylabel(\"Depth (m)\", fontsize=font_label)\n",
    "\n",
    "ax[1].set_aspect(\"equal\")\n",
    "img = ax[1].contourf(0.001*y, 0.001*z, displacement_z.reshape(shape[::-1]),  \n",
    "                  60, cmap=\"jet\")\n",
    "cb = plt.colorbar(img, ax=ax[1], aspect=15, pad=0.05, shrink=0.7)\n",
    "cb.set_label('m', rotation=90, fontsize=font_label)\n",
    "cb.ax.tick_params(labelsize=font_ticks)\n",
    "#ax[1].set_title(\"(b)   Vertical displacement \")\n",
    "plt.text(-2.1, -0.1, '(b)', fontsize=font_title)\n",
    "\n",
    "plt.xticks(ticks=0.001*np.arange(np.min(y), np.max(y)+300, 300), fontsize=font_ticks)\n",
    "plt.yticks(ticks=0.001*np.arange(np.min(z), np.max(z)+200, 200), fontsize=font_ticks)\n",
    "ax[1].invert_yaxis()\n",
    "ax[1].set_xlabel(\"Horizontal coordinate y (m)\", fontsize=font_label)\n",
    "ax[1].set_ylabel(\"Depth (m)\", fontsize=font_label)\n",
    "\n",
    "#plt.tight_layout()\n",
    "plt.subplots_adjust(\n",
    "    left=0.125, bottom=0.1, right=0.9, top=0.99, \n",
    "    wspace=0, hspace=-0.1)\n",
    "\n",
    "plt.savefig('../manuscript/Fig/Figure_Displacement.png', dpi=600)\n",
    "plt.show()"
   ]
  },
  {
   "cell_type": "markdown",
   "metadata": {},
   "source": [
    "# Plot the displacement fields by using Geertsma's (1973) "
   ]
  },
  {
   "cell_type": "code",
   "execution_count": null,
   "metadata": {},
   "outputs": [],
   "source": [
    "# Plot the displacement fields by Geertsma\n",
    "fig, ax = plt.subplots(nrows=2, ncols=1, sharex=False, sharey=False, figsize=(5.33,4.33))\n",
    "\n",
    "ax[0].set_aspect(\"equal\")\n",
    "img = ax[0].contourf(y, z, ur.reshape(shape[::-1]), \n",
    "                  60, cmap=\"jet\")\n",
    "cb = plt.colorbar(img, ax=ax[0], aspect=15, pad=0.05, shrink=0.90)\n",
    "cb.set_label('m', rotation=90, fontsize=12)\n",
    "ax[0].set_title(\"(a)   Horizontal displacement by Geertsma\")\n",
    "\n",
    "ax[0].set_xticklabels(ax[0].get_xticks())\n",
    "ax[0].set_yticklabels(ax[0].get_yticks())\n",
    "ax[0].invert_yaxis()\n",
    "ax[0].set_xlabel(\"Horizontal coordinate y (m)\")\n",
    "ax[0].set_ylabel(\"Depth (m)\")\n",
    "\n",
    "ax[1].set_aspect(\"equal\")\n",
    "img = ax[1].contourf(y, z, uz.reshape(shape[::-1]),  \n",
    "                  60, cmap=\"jet\")\n",
    "cb = plt.colorbar(img, ax=ax[1], aspect=15, pad=0.05, shrink=0.90)\n",
    "cb.set_label('m', rotation=90, fontsize=12)\n",
    "ax[1].set_title(\"(b)   vertical displacement by Geertsma\")\n",
    "\n",
    "ax[1].set_xticklabels(ax[1].get_xticks())\n",
    "ax[1].set_yticklabels(ax[1].get_yticks())\n",
    "ax[1].invert_yaxis()\n",
    "ax[1].set_xlabel(\"Horizontal coordinate y (m)\")\n",
    "ax[1].set_ylabel(\"Depth (m)\")\n",
    "\n",
    "#plt.tight_layout(True)\n",
    "plt.subplots_adjust(\n",
    "    left=0.125, bottom=0.1, right=0.9, top=0.9, \n",
    "    wspace=0.2, hspace=0.2)\n",
    "\n",
    "#plt.savefig('../manuscript/Fig/Figure_Displacement_Geertsma.png', dpi=600)"
   ]
  },
  {
   "cell_type": "markdown",
   "metadata": {},
   "source": [
    "## DISPLACEMENT FIELD BY OUR METHODOLOGY: \n",
    "### Reservoir under uniform depletion: (a) Horizontal x-component displacement and (b) vertical displacement by our methodology that uses the closed expressions of the volume integrations given by Nagy et al. (2000) and Nagy et al. (2002). These displacements are calculated along the x-axis, at $y = 0$ m and $z$ located at the depths of:  seafloor ($z = 0$ m), reservoir top ($z = 750$ m), reservoir center ($z = 800$ m) and reservoir bottom ($z = 850$ m).\n",
    "\n"
   ]
  },
  {
   "cell_type": "code",
   "execution_count": null,
   "metadata": {},
   "outputs": [],
   "source": [
    "# Define computation points\n",
    "z_top = np.zeros(100) + 750\n",
    "z_center = np.zeros(100) + 800\n",
    "z_bottom = np.zeros(100) + 850\n",
    "z_seafloor = np.zeros(100) \n",
    "x = np.linspace(0, 600, 100)\n",
    "y = np.zeros_like(x)\n",
    "coordinates_top = np.vstack([y, x, z_top])\n",
    "coordinates_center = np.vstack([y, x, z_center])\n",
    "coordinates_bottom = np.vstack([y, x, z_bottom])\n",
    "coordinates_seafloor = np.vstack([y, x, z_seafloor])"
   ]
  },
  {
   "cell_type": "markdown",
   "metadata": {},
   "source": [
    "### Compute the displacement components  along the x-axis, at $y = 0 $ m and $z$ located at the depths of:  seafloor ($z = 0$ m), reservoir top ($z = 750$ m), reservoir center ($z = 800$ m) and reservoir bottom ($z = 850$ m)."
   ]
  },
  {
   "cell_type": "code",
   "execution_count": null,
   "metadata": {},
   "outputs": [],
   "source": [
    "# Compute the x-component of displacement  at the top\n",
    "displacement_x_top = cp.displacement_x_component(coordinates_top, model, DP, poisson, young)\n",
    "\n",
    "# Compute the z-component of displacement  at the top\n",
    "displacement_z_top = cp.displacement_z_component(coordinates_top, model, DP, poisson, young)"
   ]
  },
  {
   "cell_type": "code",
   "execution_count": null,
   "metadata": {},
   "outputs": [],
   "source": [
    "# Compute the x-component of displacement  at the center\n",
    "displacement_x_center = cp.displacement_x_component(coordinates_center, model, DP, poisson, young)\n",
    "\n",
    "# Compute the z-component of displacement  at the center\n",
    "displacement_z_center = cp.displacement_z_component(coordinates_center, model, DP, poisson, young)"
   ]
  },
  {
   "cell_type": "code",
   "execution_count": null,
   "metadata": {},
   "outputs": [],
   "source": [
    "# Compute the x-component of displacement  at the bottom\n",
    "displacement_x_bottom = cp.displacement_x_component(coordinates_bottom, model, DP, poisson, young)\n",
    "\n",
    "# Compute the z-component of displacement  at the bottom\n",
    "displacement_z_bottom = cp.displacement_z_component(coordinates_bottom, model, DP, poisson, young)"
   ]
  },
  {
   "cell_type": "code",
   "execution_count": null,
   "metadata": {},
   "outputs": [],
   "source": [
    "# Compute the x-component of displacement  at the seafloor\n",
    "displacement_x_seafloor = cp.displacement_x_component(coordinates_seafloor, model, DP, poisson, young)\n",
    "\n",
    "# Compute the z-component of displacement  at the seafloor\n",
    "displacement_z_seafloor = cp.displacement_z_component(coordinates_seafloor, model, DP, poisson, young)"
   ]
  },
  {
   "cell_type": "markdown",
   "metadata": {},
   "source": [
    "### Plot the results at the top, center and bottom of the reservoir"
   ]
  },
  {
   "cell_type": "code",
   "execution_count": null,
   "metadata": {},
   "outputs": [],
   "source": [
    "fig, ax = plt.subplots(nrows=2, ncols=1, sharex=False, sharey=False, figsize=(5.33, 6.33))\n",
    "\n",
    "#fig, ax = plt.subplots(nrows=1, ncols=2, sharex=False, sharey=False, figsize=(10,4))\n",
    "\n",
    "ax[0].plot(x, displacement_x_top, 'k.-', label='top')\n",
    "ax[0].plot(x, displacement_x_center, 'b.-', label='center')\n",
    "ax[0].plot(x, displacement_x_bottom, 'r.-', label='bottom')\n",
    "ax[0].plot(x, displacement_x_seafloor, 'g.-', label='Seafloor')\n",
    "#ax[0].plot([-0.25, 0], [800, 800], 'k--')\n",
    "#ax[0].set_xlim(-0.25, 0)\n",
    "#ax[0].invert_yaxis()\n",
    "ax[0].set_title('(a)', loc='left')\n",
    "ax[0].set_xlabel(\"Horizontal coordinate x (m)\") \n",
    "ax[0].set_ylabel(\"x-component of displacement (m)\")\n",
    "ax[0].grid()\n",
    "ax[0].legend(loc='best')\n",
    "\n",
    "ax[1].plot(x, displacement_z_top, 'k.-', label='top')\n",
    "ax[1].plot(x, displacement_z_center, 'b.-', label='center')\n",
    "ax[1].plot(x, displacement_z_bottom, 'r.-', label='bottom')\n",
    "ax[1].plot(x, displacement_z_seafloor, 'g.-', label='Seafloor')\n",
    "# ax[1].plot([-0.1, 0.1], [800, 800], 'k--')\n",
    "# ax[1].plot([-0.1, 0.1], [900, 900], 'k--')\n",
    "#ax[1].set_xlim(-0.1, 0.1)\n",
    "ax[1].invert_yaxis()\n",
    "ax[1].set_title('(b)', loc='left')\n",
    "ax[1].set_xlabel(\"Horizontal coordinate x (m)\") \n",
    "ax[1].set_ylabel(\"Vertical displacement (m)\")\n",
    "ax[1].grid()\n",
    "ax[1].legend(loc='upper right', bbox_to_anchor=(0.3, 0.95))                                  \n",
    "plt.tight_layout(True)\n",
    "#plt.savefig('../manuscript/Fig/Figure_Displacement_z_levels.png', dpi=600)"
   ]
  },
  {
   "cell_type": "markdown",
   "metadata": {},
   "source": [
    "# DISPLACEMENT FIELD by using Geertsma's (1973) \n",
    "\n",
    "####  Vertical displacement using Geertsma’s (1973) method   considering an elastic homogeneous cylindrical reservoir under uniform depletion based on the nucleus-of-strain concept in the half-space (Mindlin and Cheng, 1950). The displacement is calculated along the x-axis, at $y = 0$ m and $z$ located at the depths of:  seafloor ($z = 0$ m), reservoir top ($z = 750$ m), and reservoir bottom ($z = 850$ m)."
   ]
  },
  {
   "cell_type": "code",
   "execution_count": null,
   "metadata": {},
   "outputs": [],
   "source": [
    "# Compute radial and vertical displacement at the top by using the Geertsma's model\n",
    "ur_top, uz_top = disk.Geertsma_disk_displacement(coordinates_top, model_ge, DP[0], poisson, young)\n",
    "\n",
    "# Compute radial and vertical displacement at the bottom by using the Geertsma's model\n",
    "ur_bottom, uz_bottom = disk.Geertsma_disk_displacement(coordinates_bottom, model_ge, DP[0], poisson, young)\n",
    "\n",
    "# Compute radial and vertical displacement at the seafloor by using the Geertsma's model\n",
    "ur_seafloor, uz_seafloor = disk.Geertsma_disk_displacement(coordinates_seafloor, model_ge, DP[0], poisson, young)"
   ]
  },
  {
   "cell_type": "code",
   "execution_count": null,
   "metadata": {},
   "outputs": [],
   "source": [
    "plt.figure(figsize=(5.33, 3.33))\n",
    "\n",
    "plt.plot()\n",
    "\n",
    "plt.plot(x, uz_top, 'k.-', label='top')\n",
    "plt.plot(x, uz_bottom, 'r.-', label='bottom')\n",
    "plt.plot(x, uz_seafloor, 'g.-', label='Sea floor')\n",
    "plt.gca().invert_yaxis()\n",
    "plt.xlabel(\"Horizontal coordinate x (m)\") \n",
    "plt.ylabel(\"Vertical displacement Geertsma\")\n",
    "plt.grid()\n",
    "plt.legend(loc='upper right', bbox_to_anchor=(0.4, 0.95))      \n",
    "                 \n",
    "plt.tight_layout(True)\n",
    "#plt.savefig('../manuscript/Fig/Figure_Displacement_z_levels_Geertsma.png', dpi=600)"
   ]
  },
  {
   "cell_type": "markdown",
   "metadata": {},
   "source": [
    "### THE STRESS FIELD BY OUR METHODOLOGY on plane z = 0 m\n",
    "\n"
   ]
  },
  {
   "cell_type": "code",
   "execution_count": null,
   "metadata": {},
   "outputs": [],
   "source": [
    "# Define computation points on the plane z = 0m\n",
    "shape = (60, 60)\n",
    "y = np.linspace(-1500, 1500, shape[0])\n",
    "x = np.linspace(-1500, 1500, shape[1])\n",
    "y, x = np.meshgrid(y, x)\n",
    "y = y.ravel()\n",
    "x = x.ravel()\n",
    "z = np.zeros_like(x) \n",
    "coordinates = np.vstack([y, x, z])"
   ]
  },
  {
   "cell_type": "code",
   "execution_count": null,
   "metadata": {},
   "outputs": [],
   "source": [
    "# Compute the x-component of stress\n",
    "stress_x = cp.stress_x_component(coordinates, model, DP, poisson, young)\n",
    "\n",
    "# Compute the y-component of stress\n",
    "stress_y = cp.stress_y_component(coordinates, model, DP, poisson, young)\n",
    "\n",
    "# Compute the z-component of stress\n",
    "stress_z = cp.stress_z_component(coordinates, model, DP, poisson, young)"
   ]
  },
  {
   "cell_type": "code",
   "execution_count": null,
   "metadata": {},
   "outputs": [],
   "source": [
    "# horizontal component of stress\n",
    "stress_horizontal = np.sqrt(stress_x**2 + stress_y**2)"
   ]
  },
  {
   "cell_type": "markdown",
   "metadata": {},
   "source": [
    "### Geertsma:  Compute the stress components on plane z = 0 m"
   ]
  },
  {
   "cell_type": "code",
   "execution_count": null,
   "metadata": {},
   "outputs": [],
   "source": [
    "# Compute the radial, tangencial, and vertical stress components by using the Geertsma's model\n",
    "sr, st, sz = disk.Geertsma_disk_stress(coordinates, model_ge, DP[0], poisson, young)"
   ]
  },
  {
   "cell_type": "markdown",
   "metadata": {},
   "source": [
    "### Plot the stress components on plane z = 0 m\n",
    "### Reservoir under uniform depletion: (a) $x-$, (b) $y-$, and (c) $z-$ components of the stress at the free surface"
   ]
  },
  {
   "cell_type": "code",
   "execution_count": null,
   "metadata": {},
   "outputs": [],
   "source": [
    "y = np.linspace(-1500, 1500, shape[0])\n",
    "x = np.linspace(-1500, 1500, shape[1])"
   ]
  },
  {
   "cell_type": "code",
   "execution_count": null,
   "metadata": {},
   "outputs": [],
   "source": [
    "# Plot the results on a map\n",
    "fig, ax = plt.subplots(nrows=1, ncols=3, sharex=False, sharey=True, figsize=(11.33, 5.33))\n",
    "\n",
    "ax[0].set_aspect(\"equal\")\n",
    "img = ax[0].contourf(y, x, stress_x.reshape(shape), \n",
    "                  60, cmap=\"jet\")\n",
    "\n",
    "cb = plt.colorbar(img, ax=ax[0], aspect=15, pad=0.05, shrink=0.5)\n",
    "cb.set_label('MPa', rotation=90, fontsize=10)\n",
    "\n",
    "ax[0].set_title(\"(a) x-component stress\")\n",
    "\n",
    "ax[0].set_xticklabels(ax[0].get_xticks())\n",
    "ax[0].set_yticklabels(ax[0].get_yticks())\n",
    "ax[0].set_xlabel(\"Horizontal coordinate y (m)\")\n",
    "ax[0].set_ylabel(\"Horizontal coordinate x (m)\")\n",
    "\n",
    "ax[1].set_aspect(\"equal\")\n",
    "img = ax[1].contourf(y, x, stress_y.reshape(shape),  \n",
    "                  60, cmap=\"jet\")\n",
    "\n",
    "cb = plt.colorbar(img, ax=ax[1], aspect=15, pad=0.05, shrink=0.5)\n",
    "cb.set_label('MPa', rotation=90, fontsize=10)\n",
    "\n",
    "ax[1].set_title(\"(b) y-component stress\")\n",
    "\n",
    "ax[1].set_xticklabels(ax[1].get_xticks())\n",
    "ax[1].set_yticklabels(ax[1].get_yticks())\n",
    "ax[1].set_xlabel(\"Horizontal coordinate y (m)\")\n",
    "#ax[1].set_ylabel(\"x (m)\")\n",
    "\n",
    "ax[2].set_aspect(\"equal\")\n",
    "img = ax[2].contourf(y, x, stress_z.reshape(shape),  \n",
    "                  60, cmap=\"jet\")\n",
    "cb = plt.colorbar(img, ax=ax[2], aspect=15, pad=0.05, shrink=0.5)\n",
    "cb.set_label('MPa', rotation=90, fontsize=10)\n",
    "\n",
    "ax[2].set_title(\"(c) z-component stress\")\n",
    "\n",
    "ax[2].set_xticklabels(ax[2].get_xticks())\n",
    "ax[2].set_yticklabels(ax[2].get_yticks())\n",
    "ax[2].set_xlabel(\" Horizontal coordinate y (m)\")\n",
    "#ax[2].set_ylabel(\"x (m)\")\n",
    "\n",
    "plt.tight_layout(True)\n",
    "#plt.savefig('../manuscript/Fig/Figure_Null_stress.png', dpi=600)"
   ]
  },
  {
   "cell_type": "code",
   "execution_count": null,
   "metadata": {},
   "outputs": [],
   "source": []
  }
 ],
 "metadata": {
  "kernelspec": {
   "display_name": "Python 3",
   "language": "python",
   "name": "python3"
  },
  "language_info": {
   "codemirror_mode": {
    "name": "ipython",
    "version": 3
   },
   "file_extension": ".py",
   "mimetype": "text/x-python",
   "name": "python",
   "nbconvert_exporter": "python",
   "pygments_lexer": "ipython3",
   "version": "3.7.7"
  }
 },
 "nbformat": 4,
 "nbformat_minor": 4
}
